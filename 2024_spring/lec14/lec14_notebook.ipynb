{
 "cells": [
  {
   "cell_type": "markdown",
   "id": "6a424b44",
   "metadata": {},
   "source": [
    "# Speech Understanding \n",
    "# Lecture 14: Personal Assistant\n"
   ]
  },
  {
   "cell_type": "markdown",
   "id": "b3983e7c",
   "metadata": {},
   "source": [
    "### Mark Hasegawa-Johnson, KCGI"
   ]
  },
  {
   "cell_type": "markdown",
   "id": "0b8ca0a6",
   "metadata": {},
   "source": [
    "1. <a href=\"#section1\">What time is it?</a>\n",
    "1. <a href=\"#section2\">Tell me a joke!</a>\n",
    "1. <a href=\"#section3\">Show me my calendar for today</a>\n",
    "1. <a href=\"#section4\">Personal assistant</a>\n",
    "1. <a href=\"#homework\">Homework</a>\n"
   ]
  },
  {
   "cell_type": "markdown",
   "id": "731a115a",
   "metadata": {},
   "source": [
    "<a id='section1'></a>"
   ]
  },
  {
   "cell_type": "markdown",
   "id": "59f8148f",
   "metadata": {},
   "source": [
    "## 1. What time is it?"
   ]
  },
  {
   "cell_type": "markdown",
   "id": "52fb605c",
   "metadata": {},
   "source": [
    "We will use the `datetime` package to find out what time it is.  We will get the date and time in ISO standard format, then parse them, and read the result back to the user.  First, let's see what the ISO standard format looks like."
   ]
  },
  {
   "cell_type": "code",
   "execution_count": 1,
   "id": "9a148c64",
   "metadata": {},
   "outputs": [
    {
     "name": "stdout",
     "output_type": "stream",
     "text": [
      "2024-07-17T10:58:05.565788\n"
     ]
    }
   ],
   "source": [
    "import datetime\n",
    "\n",
    "print(datetime.datetime.now().isoformat())"
   ]
  },
  {
   "cell_type": "markdown",
   "id": "cb760385",
   "metadata": {},
   "source": [
    "You can see that the ISO standard format has the date, followed by the the hour, minutes, and seconds.  Our personal assistant will only read to us the hour and minutes.  We can use `split` to split the string at the `T` character, and then to split it at every `:` character, then read out only the relevant part:\n"
   ]
  },
  {
   "cell_type": "code",
   "execution_count": 2,
   "id": "fb5e8124",
   "metadata": {},
   "outputs": [
    {
     "name": "stdout",
     "output_type": "stream",
     "text": [
      "10時58分です\n"
     ]
    }
   ],
   "source": [
    "(date, time) = datetime.datetime.now().isoformat().split(\"T\")\n",
    "\n",
    "(hour, minutes, seconds) = time.split(\":\")\n",
    "\n",
    "print(hour+\"時\"+minutes+\"分です\")"
   ]
  },
  {
   "cell_type": "markdown",
   "id": "92947fe7",
   "metadata": {},
   "source": [
    "Let's create a function that tells us the current time."
   ]
  },
  {
   "cell_type": "code",
   "execution_count": 3,
   "id": "e14f2a8e",
   "metadata": {},
   "outputs": [],
   "source": [
    "import datetime, gtts\n",
    "\n",
    "def what_time_is_it(lang, filename):\n",
    "    '''\n",
    "    Tell me what time it is.\n",
    "    \n",
    "    Parameters:\n",
    "    lang (str) - language in which to speak\n",
    "    filename (str) - the filename into which the audio should be recorded\n",
    "    '''\n",
    "    (date, time) = datetime.datetime.now().isoformat().split(\"T\")\n",
    "    (hour, minutes, seconds) = time.split(\":\")\n",
    "    if lang==\"en\":\n",
    "        text = hour+\" hours and \"+minutes+\" minutes\"\n",
    "    elif lang==\"ja\":\n",
    "        text = hour+\"時\"+minutes+\"分です\"\n",
    "    elif lang==\"zh\":\n",
    "        text = \"现在是\"+hour+\"点\"+\"分\"\n",
    "    else:\n",
    "        text=\"I'm sorry, I don't know that language\"\n",
    "    gtts.gTTS(text,lang=lang).save(filename)\n",
    " "
   ]
  },
  {
   "cell_type": "markdown",
   "id": "323c3007",
   "metadata": {},
   "source": [
    "If you've created that file, you can now test it by running the following block:"
   ]
  },
  {
   "cell_type": "code",
   "execution_count": null,
   "id": "4321b525",
   "metadata": {},
   "outputs": [],
   "source": [
    "what_time_is_it(\"it\", \"time.mp3\")\n",
    "import librosa, IPython\n",
    "x, fs = librosa.load('time.mp3')\n",
    "IPython.display.Audio(data=x, rate=fs)"
   ]
  },
  {
   "cell_type": "markdown",
   "id": "5e65b702",
   "metadata": {},
   "source": [
    "<a id='section2'></a>"
   ]
  },
  {
   "cell_type": "markdown",
   "id": "f238c7ab",
   "metadata": {},
   "source": [
    "## 2. Tell me a joke!"
   ]
  },
  {
   "cell_type": "markdown",
   "id": "c4536070",
   "metadata": {},
   "source": [
    "If you want your personal assistant to tell jokes, you need a good source of jokes.  There are many lists of jokes on the internet, though most of the jokes are not very funny."
   ]
  },
  {
   "cell_type": "markdown",
   "id": "75584005",
   "metadata": {},
   "source": [
    "### 2.1 Jokes in English"
   ]
  },
  {
   "cell_type": "markdown",
   "id": "31d2958d",
   "metadata": {},
   "source": [
    "In English, let's use this list of jokes from the `yesinteractive/dadjokes` app:  https://raw.githubusercontent.com/yesinteractive/dadjokes/master/controllers/jokes.txt"
   ]
  },
  {
   "cell_type": "code",
   "execution_count": null,
   "id": "6a35cd33",
   "metadata": {},
   "outputs": [],
   "source": [
    "import requests\n",
    "req = requests.get(\"https://raw.githubusercontent.com/yesinteractive/dadjokes/master/controllers/jokes.txt\")\n",
    "\n",
    "texts = {}\n",
    "texts['en'] = req.text\n",
    "with open('jokes_en.txt','w') as f:\n",
    "    f.write(texts['en'].replace('<>','  '))\n",
    "    \n",
    "jokes = {}\n",
    "jokes['en'] = []\n",
    "with open('jokes_en.txt', 'r') as f:\n",
    "    jokes['en'] = f.readlines()\n",
    "\n",
    "for n in range(6):\n",
    "    print(jokes['en'][n])"
   ]
  },
  {
   "cell_type": "markdown",
   "id": "a23e7783",
   "metadata": {},
   "source": [
    "### 2.2 Jokes in Japanese\n",
    "\n",
    "Here is a web page containing some jokes in Japanese: http://www.gujo-tv.ne.jp/~circleband/oyaji%20gag.htm.  \n",
    "\n",
    "Open the page source, and look at `content` at the top.  Notice that this file is stored in `Shift_JIS`, which is a pre-unicode encoding for Japanese characters.  So the first thing we need to do is to convert it to unicode.  One way to do that is by saving the raw binary to a file, and then reading it back in using the `Shift_JIS` decoder:\n"
   ]
  },
  {
   "cell_type": "code",
   "execution_count": null,
   "id": "d127602e",
   "metadata": {},
   "outputs": [],
   "source": [
    "import requests\n",
    "\n",
    "rawbinary = requests.get(\"http://www.gujo-tv.ne.jp/~circleband/oyaji%20gag.htm\").content\n",
    "with open('jokes_ja.htm','wb') as f:\n",
    "    f.write(rawbinary)\n",
    "    \n",
    "with open('jokes_ja.htm', 'r', encoding='shiftjis') as f:\n",
    "    texts['ja'] = f.read()\n",
    "\n",
    "print(texts['ja'][0:1000])\n"
   ]
  },
  {
   "cell_type": "markdown",
   "id": "59fd5803",
   "metadata": {},
   "source": [
    "Notice that each joke is the third `<td>` tag under a `<tr>` tag.  Let's use BeautifulSoup to find those.\n"
   ]
  },
  {
   "cell_type": "code",
   "execution_count": null,
   "id": "832e9140",
   "metadata": {},
   "outputs": [],
   "source": [
    "import bs4\n",
    "soup = bs4.BeautifulSoup(texts['ja'], \"html.parser\")\n",
    "\n",
    "jokes['ja'] = []\n",
    "for tr in soup.find_all('tr'):\n",
    "    tdlist = tr.find_all('td')\n",
    "    jokes['ja'].append(tdlist[2].text + '\\n')\n",
    "\n",
    "for n in range(5):\n",
    "    print(jokes['ja'][n])\n",
    "\n",
    "with open('jokes_ja.txt','w') as f:\n",
    "    f.writelines(jokes['ja'])"
   ]
  },
  {
   "cell_type": "markdown",
   "id": "ccb945d3",
   "metadata": {},
   "source": [
    "### 2.3 Jokes in Chinese\n",
    "\n",
    "As in Japanese, we need to somehow extract jokes from a web page.  Let's try this web page:  http://www.ziyexing.com/files_8/xiaohua_01.htm.  This file is encoded in gb2312, so we will have to convert it to Unicode, just as we did with the Japanese jokes."
   ]
  },
  {
   "cell_type": "code",
   "execution_count": null,
   "id": "f2f850b4",
   "metadata": {},
   "outputs": [],
   "source": [
    "import requests\n",
    "\n",
    "rawbinary = requests.get(\"http://www.ziyexing.com/files_8/xiaohua_01.htm\").content\n",
    "    \n",
    "with open('jokes_zh.htm','wb') as f:\n",
    "    f.write(rawbinary)\n",
    "    \n",
    "with open('jokes_zh.htm', 'r', encoding=\"gb2312\", errors=\"ignore\") as f:\n",
    "    texts['zh'] = f.read()\n",
    "\n",
    "print(texts['zh'][:2000])"
   ]
  },
  {
   "cell_type": "markdown",
   "id": "2786fd47",
   "metadata": {},
   "source": [
    "* All of the jokes are in one long paragraph.  This paragraph is distinguished from other paragraphs only because it has `style=\"line-height: 150%\"`\n",
    "* Each joke begins with a line in boldface (`<b>...</b>`), starting with the character `○`.  We can probably just discard the `<b>` and `</b>` tags using the python string `replace` function, and then split the paragraph at the `○` character.\n",
    "* Each joke contains several lines, with lots of extra whitespace.  We can split on `\\n` characters, eliminate `<br>` tags, and then use `strip` to get rid of extra whitespace.\n"
   ]
  },
  {
   "cell_type": "code",
   "execution_count": null,
   "id": "9b388f8b",
   "metadata": {},
   "outputs": [],
   "source": [
    "import bs4\n",
    "soup = bs4.BeautifulSoup(texts['zh'], \"html.parser\")\n",
    "\n",
    "ptag = soup.find(\"p\",{'style':'line-height: 150%'})\n",
    "jokestext = ptag.text.replace('</b>','').replace('<br>','').replace('<b>','')\n",
    "\n",
    "jokes['zh'] = []\n",
    "for rawjoke in jokestext.split('○'):\n",
    "    lines = rawjoke.split('\\n')\n",
    "    joke = lines[0].strip() + ': '\n",
    "    if len(lines) > 1:\n",
    "        for line in lines[1:]:\n",
    "            joke += line.strip()\n",
    "        jokes['zh'].append(joke + '\\n')\n",
    "\n",
    "for n in range(10):\n",
    "    print('Joke number ',n,': ', jokes['zh'][n])\n",
    "\n",
    "with open('jokes_zh.txt','w') as f:\n",
    "    f.writelines(jokes['zh'])"
   ]
  },
  {
   "cell_type": "markdown",
   "id": "8f692b51",
   "metadata": {},
   "source": [
    "### 2.4 Tell me a joke!"
   ]
  },
  {
   "cell_type": "markdown",
   "id": "6c62f3d3",
   "metadata": {},
   "source": [
    "Let's ask gtts to tell us a joke chosen at random from one of these lists.  Add the following to your `week14.py` file:"
   ]
  },
  {
   "cell_type": "code",
   "execution_count": null,
   "id": "92b7f5b3",
   "metadata": {},
   "outputs": [],
   "source": [
    "import gtts, bs4, random\n",
    "\n",
    "def tell_me_a_joke(lang, audiofile):\n",
    "    '''\n",
    "    Tell me a joke.\n",
    "    \n",
    "    @params:\n",
    "    filename (str) - filename containing the database of jokes\n",
    "    lang (str) - language\n",
    "    audiofile (str) - audiofile in which to record the joke\n",
    "    '''\n",
    "    filename = 'jokes_%s.txt'%(lang)\n",
    "    with open(filename) as f:\n",
    "        jokes = f.readlines()\n",
    "    joke = random.choice(jokes)\n",
    "    print(joke.strip())\n",
    "    gtts.gTTS(joke.strip(), lang=lang).save(audiofile)\n"
   ]
  },
  {
   "cell_type": "markdown",
   "id": "e307e741",
   "metadata": {},
   "source": [
    "Let's try it:"
   ]
  },
  {
   "cell_type": "code",
   "execution_count": null,
   "id": "5576ca5d",
   "metadata": {},
   "outputs": [],
   "source": [
    "tell_me_a_joke(\"zh\", 'joke.mp3')\n",
    "\n",
    "import librosa, IPython\n",
    "x, fs = librosa.load('joke.mp3')\n",
    "IPython.display.Audio(data=x, rate=fs)"
   ]
  },
  {
   "cell_type": "markdown",
   "id": "6e197bdf",
   "metadata": {},
   "source": [
    "<a id='section3'></a>"
   ]
  },
  {
   "cell_type": "markdown",
   "id": "e4b0ffdb",
   "metadata": {},
   "source": [
    "## 3. What day is it today?"
   ]
  },
  {
   "cell_type": "markdown",
   "id": "fb9cba2c",
   "metadata": {},
   "source": [
    "Let's ask our assistant to tell us today's date.  In order to give her something to say, we will also ask her to say what is today's current date, using the python `datetime` package.  \n",
    "`datetime` gives the current date in several different ways.  For example,"
   ]
  },
  {
   "cell_type": "code",
   "execution_count": null,
   "id": "8dc7fc3a",
   "metadata": {},
   "outputs": [],
   "source": [
    "import datetime\n",
    "print('The year is',datetime.date.today().year)\n",
    "print('The month is',datetime.date.today().month)\n",
    "print('The day is',datetime.date.today().day)\n",
    "print('It is the',datetime.date.today().isoweekday(),'day of the week')"
   ]
  },
  {
   "cell_type": "markdown",
   "id": "a062e576",
   "metadata": {},
   "source": [
    "We can use some dictionaries to make those numbers more friendly."
   ]
  },
  {
   "cell_type": "code",
   "execution_count": null,
   "id": "0fa35825",
   "metadata": {},
   "outputs": [],
   "source": [
    "def what_day_is_it(lang, audiofile):\n",
    "    '''\n",
    "    Tell me what day it is.\n",
    "\n",
    "    @params:\n",
    "    lang (str) - language in which to record the date\n",
    "    audiofile (str) - filename in which to read the date\n",
    "    \n",
    "    @returns:\n",
    "    url (str) - URL that you can look up in order to see the calendar for this month and year\n",
    "    '''\n",
    "    today = datetime.date.today()\n",
    "    year = today.year\n",
    "    month = today.month\n",
    "    day = today.day\n",
    "    weekday = today.isoweekday()\n",
    "    if lang==\"en\":\n",
    "        weekdays=['','Monday','Tuesday','Wednesday','Thursday','Friday','Saturday','Sunday']\n",
    "        months=['','January','February','March','April','May','June','July','August','September','October','November','December']\n",
    "        text = \"%s, %s %d, %d\"%(weekdays[weekday],months[month],day,year)\n",
    "        gtts.gTTS(\"Today is \"+text,lang=\"en\").save(audiofile)\n",
    "    elif lang==\"ja\":\n",
    "        weekdays=' 月火水木金土日'\n",
    "        text=\"%s曜日,%d月%d日, %d年\"%(weekdays[weekday],month,day,year)\n",
    "        gtts.gTTS(\"今日は\"+text,lang=\"ja\").save(audiofile)\n",
    "    elif lang==\"zh\":\n",
    "        weekdays=['','周一','周二','周三','周四','周五','周六','星期日']\n",
    "        text='%s, %d月%d日, %d年'%(weekdays[weekday],month,day,year)\n",
    "        gtts.gTTS(\"今天是\"+text,lang=\"zh\").save(audiofile)\n"
   ]
  },
  {
   "cell_type": "markdown",
   "id": "0a1565cd",
   "metadata": {},
   "source": [
    "Let's try it:"
   ]
  },
  {
   "cell_type": "code",
   "execution_count": null,
   "id": "38053c11",
   "metadata": {},
   "outputs": [],
   "source": [
    "what_day_is_it(\"en\",\"date.mp3\")\n",
    "\n",
    "import librosa, IPython\n",
    "x, fs = librosa.load('date.mp3')\n",
    "IPython.display.Audio(data=x, rate=fs)"
   ]
  },
  {
   "cell_type": "markdown",
   "id": "32f94ae2",
   "metadata": {},
   "source": [
    "<a id='section4'></a>"
   ]
  },
  {
   "cell_type": "markdown",
   "id": "6e2a4225",
   "metadata": {},
   "source": [
    "## 4. Personal assistant\n",
    "\n",
    "Now let's put it all together in a personal assistant app.  Your personal assistant will listen to you, and respond when you make any of the following four types of requests:\n",
    "\n",
    "* If you say anything containing \"What time,\" it will tell you the time\n",
    "* If you say anythin containing the word \"joke,\" it will tell you a joke\n",
    "* If you say anything containing the word \"calendar,\" it will open your calendar\n",
    "* If you say something else, it will say \"I'm sorry, I didn't understand you!\"\n",
    "\n",
    "First, let's create a convenience function that listens to us:"
   ]
  },
  {
   "cell_type": "code",
   "execution_count": null,
   "id": "1f7ed6c3",
   "metadata": {},
   "outputs": [],
   "source": [
    "import speech_recognition\n",
    "\n",
    "def personal_assistant(lang, filename):\n",
    "    if lang==\"en\":\n",
    "        keywords = [\"what time\", \"joke\", \"what day\", \"I'm sorry, I didn't understand you\"]\n",
    "    elif lang==\"ja\":\n",
    "        keywords = [\"何時\",\"冗談\",\"何日\",\"すみません、よくわかりませんでした\"]\n",
    "    elif lang==\"zh\":\n",
    "        keywords = [\"几奌\",\"玩笑\",\"什么日子\",\"对不起，我没听懂你的话\"]\n",
    "    else:\n",
    "        speech_package.synthesize(\"I don't know that language!\",\"en\",filename)\n",
    "        return\n",
    "\n",
    "    text = input(\"What would you like me to do?\")\n",
    "            \n",
    "    print(\"I heard\",text)\n",
    "    if keywords[0] in text:\n",
    "        what_time_is_it(lang, filename)\n",
    "    elif keywords[1] in text:\n",
    "        tell_me_a_joke(lang, filename)\n",
    "    elif keywords[2] in text:\n",
    "        what_day_is_it(lang, filename)\n",
    "    else:\n",
    "        print(keywords[3])\n",
    "        print('I will try again')\n",
    "            "
   ]
  },
  {
   "cell_type": "markdown",
   "id": "28a15362",
   "metadata": {},
   "source": [
    "Now let's try running the personal assistant:"
   ]
  },
  {
   "cell_type": "code",
   "execution_count": null,
   "id": "65feb87e",
   "metadata": {},
   "outputs": [],
   "source": [
    "personal_assistant(\"en\", \"test.mp3\")\n",
    "\n",
    "x, fs = librosa.load(\"test.mp3\")\n",
    "IPython.display.Audio(data=x, rate=fs)"
   ]
  },
  {
   "cell_type": "markdown",
   "id": "564707ab",
   "metadata": {},
   "source": [
    "<a id='homework'></a>"
   ]
  },
  {
   "cell_type": "markdown",
   "id": "4e6b32d4",
   "metadata": {},
   "source": [
    "## Homework"
   ]
  },
  {
   "cell_type": "markdown",
   "id": "7a9eeaa5",
   "metadata": {},
   "source": [
    "In the homework file `homework14.py`, please create four functions `what_time_is_it`, `tell_me_a_joke`, `what_day_is_it`, and `personal_assistant` like those above."
   ]
  },
  {
   "cell_type": "code",
   "execution_count": null,
   "id": "3093e619",
   "metadata": {},
   "outputs": [],
   "source": [
    "import homework14, importlib\n",
    "importlib.reload(homework14)\n",
    "help(homework14.what_time_is_it)"
   ]
  },
  {
   "cell_type": "code",
   "execution_count": null,
   "id": "d188075d",
   "metadata": {},
   "outputs": [],
   "source": [
    "help(homework14.tell_me_a_joke)"
   ]
  },
  {
   "cell_type": "code",
   "execution_count": null,
   "id": "50131b91",
   "metadata": {},
   "outputs": [],
   "source": [
    "help(homework14.what_day_is_it)"
   ]
  },
  {
   "cell_type": "code",
   "execution_count": null,
   "id": "fe8e6d75",
   "metadata": {},
   "outputs": [],
   "source": [
    "help(homework14.personal_assistant)"
   ]
  },
  {
   "cell_type": "markdown",
   "id": "941ba49c",
   "metadata": {},
   "source": [
    "When everything is working, you should be able to run personal_assistant from your homework file:"
   ]
  },
  {
   "cell_type": "code",
   "execution_count": null,
   "id": "4fac8c33",
   "metadata": {},
   "outputs": [],
   "source": [
    "importlib.reload(homework14)\n",
    "homework14.personal_assistant('ja','test.mp3')\n",
    "x, fs = librosa.load(\"test.mp3\")\n",
    "IPython.display.Audio(data=x, rate=fs)"
   ]
  },
  {
   "cell_type": "markdown",
   "id": "b1639c43",
   "metadata": {},
   "source": [
    "### Receiving your grade\n",
    "\n",
    "In order to receive a grade for your homework, you need to:\n",
    "\n",
    "1. Run the following code block on your machine.  The result may list some errors, and then in the very last line, it will show a score.  That score (between 0% and 100%) is the grade you have earned so far.  If you want to earn a higher grade, please continue editing `homework3.py`, and then run this code block again.\n",
    "1. When you are happy with your score (e.g., when it reaches 100%), choose `File` $\\Rightarrow$ `Save and Checkpoint`.  Then use `GitHub Desktop` to commit and push your changes.\n",
    "1. Make sure that the 100% shows on your github repo on github.com.  If it doesn't, you will not receive credit."
   ]
  },
  {
   "cell_type": "code",
   "execution_count": null,
   "id": "6d57efcd",
   "metadata": {},
   "outputs": [],
   "source": [
    "import importlib, grade\n",
    "importlib.reload(grade)"
   ]
  },
  {
   "cell_type": "code",
   "execution_count": null,
   "id": "d9a9c67a",
   "metadata": {},
   "outputs": [],
   "source": []
  }
 ],
 "metadata": {
  "kernelspec": {
   "display_name": "Python 3 (ipykernel)",
   "language": "python",
   "name": "python3"
  },
  "language_info": {
   "codemirror_mode": {
    "name": "ipython",
    "version": 3
   },
   "file_extension": ".py",
   "mimetype": "text/x-python",
   "name": "python",
   "nbconvert_exporter": "python",
   "pygments_lexer": "ipython3",
   "version": "3.10.9"
  }
 },
 "nbformat": 4,
 "nbformat_minor": 5
}
